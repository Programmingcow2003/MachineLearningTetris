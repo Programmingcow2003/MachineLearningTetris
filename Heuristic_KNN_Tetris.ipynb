{
  "cells": [
    {
      "cell_type": "code",
      "source": [
        "!pip install tetris_gymnasium\n"
      ],
      "metadata": {
        "colab": {
          "base_uri": "https://localhost:8080/"
        },
        "id": "QpW-uG4wwMzw",
        "outputId": "947f918b-d554-42be-be1e-a8f718252ace"
      },
      "execution_count": 1,
      "outputs": [
        {
          "output_type": "stream",
          "name": "stdout",
          "text": [
            "Requirement already satisfied: tetris_gymnasium in /usr/local/lib/python3.11/dist-packages (0.3.0)\n",
            "Requirement already satisfied: chex<0.2.0,>=0.1.87 in /usr/local/lib/python3.11/dist-packages (from tetris_gymnasium) (0.1.89)\n",
            "Requirement already satisfied: gymnasium>=0.28.1 in /usr/local/lib/python3.11/dist-packages (from tetris_gymnasium) (1.1.1)\n",
            "Requirement already satisfied: jax<0.5.0,>=0.4.34 in /usr/local/lib/python3.11/dist-packages (from tetris_gymnasium) (0.4.38)\n",
            "Requirement already satisfied: numpy<2.0.0,>=1.21.6 in /usr/local/lib/python3.11/dist-packages (from tetris_gymnasium) (1.26.4)\n",
            "Requirement already satisfied: opencv-python<5.0.0.0,>=4.10.0.84 in /usr/local/lib/python3.11/dist-packages (from tetris_gymnasium) (4.11.0.86)\n",
            "Requirement already satisfied: absl-py>=0.9.0 in /usr/local/lib/python3.11/dist-packages (from chex<0.2.0,>=0.1.87->tetris_gymnasium) (1.4.0)\n",
            "Requirement already satisfied: typing_extensions>=4.2.0 in /usr/local/lib/python3.11/dist-packages (from chex<0.2.0,>=0.1.87->tetris_gymnasium) (4.13.1)\n",
            "Requirement already satisfied: jaxlib>=0.4.27 in /usr/local/lib/python3.11/dist-packages (from chex<0.2.0,>=0.1.87->tetris_gymnasium) (0.4.38)\n",
            "Requirement already satisfied: toolz>=0.9.0 in /usr/local/lib/python3.11/dist-packages (from chex<0.2.0,>=0.1.87->tetris_gymnasium) (0.12.1)\n",
            "Requirement already satisfied: cloudpickle>=1.2.0 in /usr/local/lib/python3.11/dist-packages (from gymnasium>=0.28.1->tetris_gymnasium) (3.1.1)\n",
            "Requirement already satisfied: farama-notifications>=0.0.1 in /usr/local/lib/python3.11/dist-packages (from gymnasium>=0.28.1->tetris_gymnasium) (0.0.4)\n",
            "Requirement already satisfied: ml_dtypes>=0.4.0 in /usr/local/lib/python3.11/dist-packages (from jax<0.5.0,>=0.4.34->tetris_gymnasium) (0.4.1)\n",
            "Requirement already satisfied: opt_einsum in /usr/local/lib/python3.11/dist-packages (from jax<0.5.0,>=0.4.34->tetris_gymnasium) (3.4.0)\n",
            "Requirement already satisfied: scipy>=1.10 in /usr/local/lib/python3.11/dist-packages (from jax<0.5.0,>=0.4.34->tetris_gymnasium) (1.10.1)\n"
          ]
        }
      ]
    },
    {
      "cell_type": "code",
      "execution_count": 2,
      "metadata": {
        "id": "SNek4WWmwGjg"
      },
      "outputs": [],
      "source": [
        "import numpy as np\n",
        "import random\n",
        "import gymnasium as gym\n",
        "import tetris_gymnasium\n",
        "from tetris_gymnasium.envs.tetris import ActionsMapping"
      ]
    },
    {
      "cell_type": "code",
      "execution_count": 3,
      "metadata": {
        "id": "qbCg6FDowGjh"
      },
      "outputs": [],
      "source": [
        "#Hyperparameters:\n",
        "KVAL = 7\n",
        "PIECE_WEIGHT = 20"
      ]
    },
    {
      "cell_type": "code",
      "execution_count": 4,
      "metadata": {
        "id": "nBb1ZBbNwGjh"
      },
      "outputs": [],
      "source": [
        "def printarray(array):\n",
        "    for row in array:\n",
        "        print(row)"
      ]
    },
    {
      "cell_type": "code",
      "execution_count": 5,
      "metadata": {
        "id": "4p6ALy_8wGji"
      },
      "outputs": [],
      "source": [
        "board1 = [[0, 0, 0, 0, 0, 0, 8, 0, 0, 0],\n",
        "        [0, 0, 0, 0, 8, 8, 8, 0, 0, 0],\n",
        "        [0, 0, 0, 0, 0, 0, 0, 0, 0, 0],\n",
        "        [0, 0, 0, 0, 0, 0, 0, 0, 0, 0],\n",
        "        [0, 0, 0, 0, 0, 0, 0, 0, 0, 0],\n",
        "        [0, 0, 0, 0, 0, 0, 0, 0, 0, 0],\n",
        "        [0, 0, 0, 0, 0, 0, 0, 0, 0, 0],\n",
        "        [1, 0, 0, 0, 0, 0, 0, 0, 0, 0],\n",
        "        [1, 0, 0, 1, 0, 0, 0, 0, 0, 0],\n",
        "        [1, 0, 1, 1, 0, 0, 0, 0, 0, 0],\n",
        "        [1, 1, 1, 0, 0, 0, 0, 0, 0, 0],\n",
        "        [1, 1, 1, 1, 1, 0, 0, 0, 0, 0],\n",
        "        [0, 0, 0, 0, 1, 1, 0, 0, 0, 0],\n",
        "        [0, 0, 0, 0, 1, 1, 1, 0, 0, 0],\n",
        "        [0, 0, 0, 0, 1, 0, 1, 1, 0, 0],\n",
        "        [0, 0, 0, 0, 1, 0, 0, 1, 1, 0],\n",
        "        [0, 0, 0, 0, 1, 0, 0, 0, 1, 0],\n",
        "        [0, 0, 0, 0, 1, 0, 0, 0, 0, 0],\n",
        "        [0, 0, 0, 0, 1, 0, 0, 0, 0, 0],\n",
        "        [0, 0, 0, 0, 1, 0, 0, 0, 0, 0]]\n",
        "\n",
        "\n",
        "#Finds the column heights for attached pieces\n",
        "def find_column_heights(board):\n",
        "    column_heights = [0] * 10\n",
        "    for c in range(10):\n",
        "        maxHeight = 0\n",
        "        r = 19\n",
        "        while r >= 0:\n",
        "            if board[r][c] != 0 and is_attached(board, c, r):\n",
        "                maxHeight = 20 - r\n",
        "            r-=1\n",
        "        column_heights[c] = maxHeight\n",
        "    return column_heights\n",
        "\n",
        "\n",
        "\n",
        "def is_valid(board, xindex, yindex):\n",
        "    #Checking out of bounds\n",
        "    if(yindex >= 20 or yindex < 0 or xindex < 0 or xindex >= 10):\n",
        "        return False\n",
        "    #Check if space is not a piece\n",
        "    elif(board[yindex][xindex] == 0):\n",
        "        return False\n",
        "    else:\n",
        "        return True\n",
        "\n",
        "\n",
        "#Tested and Approved\n",
        "#Checks if the piece which contains the position xindex yindex is connected\n",
        "def is_attached(board, xindex, yindex):\n",
        "    if(not is_valid(board, xindex, yindex)):\n",
        "        return False\n",
        "    queue = [(xindex, yindex)]\n",
        "    visited = []\n",
        "    while(len(queue) > 0):\n",
        "        current_index = queue.pop()\n",
        "        #print(current_index)\n",
        "        visited.append(current_index)\n",
        "        x = current_index[0]\n",
        "        y = current_index[1]\n",
        "        if y == 19:\n",
        "            return True\n",
        "        if(is_valid(board, x, y-1) and not ((x, y-1) in visited)):\n",
        "            queue.append((x, y-1))\n",
        "        if(is_valid(board, x+1, y) and not ((x+1, y) in visited)):\n",
        "            queue.append((x+1, y))\n",
        "        if(is_valid(board, x-1, y) and not ((x-1, y) in visited)):\n",
        "            queue.append((x-1, y))\n",
        "        if(is_valid(board, x, y+1) and not ((x, y+1) in visited)):\n",
        "            queue.append((x, y+1))\n",
        "\n",
        "    return False\n",
        "\n",
        "\n",
        "#Used to find the coordinates of the active piece\n",
        "def get_visited(board, xindex, yindex):\n",
        "    #print(board[yindex][xindex])\n",
        "    #printarray(board)\n",
        "    #print(board[yindex])\n",
        "    if(not is_valid(board, xindex, yindex)):\n",
        "        #Stands for No Piece Found\n",
        "        return \"NPF\"\n",
        "    queue = [(xindex, yindex)]\n",
        "    visited = []\n",
        "    while(len(queue) > 0):\n",
        "        current_index = queue.pop()\n",
        "        #print(current_index)\n",
        "        visited.append(current_index)\n",
        "        x = current_index[0]\n",
        "        y = current_index[1]\n",
        "        if y == 19:\n",
        "            return visited\n",
        "        if(is_valid(board, x, y-1) and not ((x, y-1) in visited)):\n",
        "            queue.append((x, y-1))\n",
        "        if(is_valid(board, x+1, y) and not ((x+1, y) in visited)):\n",
        "            queue.append((x+1, y))\n",
        "        if(is_valid(board, x-1, y) and not ((x-1, y) in visited)):\n",
        "            queue.append((x-1, y))\n",
        "        if(is_valid(board, x, y+1) and not ((x, y+1) in visited)):\n",
        "            queue.append((x, y+1))\n",
        "\n",
        "    return visited\n",
        "\n",
        "#is_attached_with_visited(board1, 5,1)\n",
        "\n"
      ]
    },
    {
      "cell_type": "code",
      "execution_count": 6,
      "metadata": {
        "id": "tPsR_rDcwGji"
      },
      "outputs": [],
      "source": [
        "#Finds valid unattached pieces\n",
        "def is_unattached(board, x_index, y_index):\n",
        "    if(board[y_index][x_index] == 0):\n",
        "        #print(f\"There is no piece at {x_index, y_index}\")\n",
        "        return False\n",
        "    elif(not is_attached(board, x_index, y_index)):\n",
        "        return True\n",
        "    return False\n",
        "\n",
        "def find_active_piece(board):\n",
        "    piece = 0\n",
        "    xindex = 0\n",
        "    yindex = 0\n",
        "    #Row by row scan starting at the top to find the first piece which is unattached\n",
        "    while(not is_unattached(board, xindex, yindex)):\n",
        "        if(xindex == 9):\n",
        "            xindex = 0\n",
        "            yindex += 1\n",
        "        else:\n",
        "            xindex += 1\n",
        "        if(yindex >= 20):\n",
        "            #We do this so the is_unattached method doesn't have to deal with out of bounds\n",
        "            break\n",
        "    if(yindex < 20):\n",
        "        piece = board[yindex][xindex]\n",
        "    if(piece == 0):\n",
        "        pass\n",
        "        #print(\"No active piece found\")\n",
        "    piece_coordinates = get_visited(board, xindex, yindex)\n",
        "    return piece_coordinates\n",
        "\n",
        "def find_piece_width(board):\n",
        "    piece_coordinates = find_active_piece(board)\n",
        "    x_coordinates = []\n",
        "    for coordinate in piece_coordinates:\n",
        "        x_coordinates.append(coordinate[0])\n",
        "    if(x_coordinates == [\"N\", \"P\", \"F\"]):\n",
        "        return \"No Piece Found\"\n",
        "    #print(x_coordinates)\n",
        "    #print(x_coordinates == [\"N\", \"P\", \"F\"])\n",
        "    range = max(x_coordinates) - min(x_coordinates) + 1\n",
        "    return range\n",
        "\n",
        "find_piece_width(board1)\n",
        "\n",
        "def find_leftmost_index(board):\n",
        "    piece_coordinates = find_active_piece(board)\n",
        "    x_coordinates = []\n",
        "    for coordinate in piece_coordinates:\n",
        "        x_coordinates.append(coordinate[0])\n",
        "    return min(x_coordinates)\n",
        "\n"
      ]
    },
    {
      "cell_type": "code",
      "execution_count": 7,
      "metadata": {
        "id": "ESrLbOr9wGjj"
      },
      "outputs": [],
      "source": [
        "#Finds the location where the robot should aim\n",
        "def find_aim(column_heights, piece_width):\n",
        "    if(piece_width == 1):\n",
        "        aim = np.argmin(column_heights)\n",
        "    elif(piece_width == 2):\n",
        "        lowest_2by = []\n",
        "        #Find the maxes of the current spot and the spot next to it to find the lowest point to fit a 2 wide piece\n",
        "        for i in range(len(column_heights)-1):\n",
        "            lowest_2by.append(max(column_heights[i],column_heights[i+1]))\n",
        "        aim = np.argmin(lowest_2by)\n",
        "    else:\n",
        "        print(\"Piece width exceeded 2, should have been rotated\")\n",
        "    return aim\n",
        "\n",
        "\n"
      ]
    },
    {
      "cell_type": "code",
      "execution_count": 8,
      "metadata": {
        "id": "b_TTy98dwGjj"
      },
      "outputs": [],
      "source": [
        "\n",
        "# --- Initialize the Tetris Environment ---\n",
        "env = gym.make(\"tetris_gymnasium/Tetris\", render_mode=\"ansi\")\n",
        "\n",
        "# Get the available actions from ActionsMapping\n",
        "actions = ActionsMapping()\n",
        "\n",
        "#Convert string board which is returned by env.render() to an array\n",
        "def convert_strBoard_to_2dArray(board):\n",
        "    array = []\n",
        "    row = []\n",
        "    for char in board:\n",
        "        if char != \"\\n\":\n",
        "            if char == '.':\n",
        "                row.append(0)\n",
        "            else:\n",
        "                row.append(int(char))\n",
        "        else:\n",
        "            array.append(row)\n",
        "            row = []\n",
        "    array.append(row)\n",
        "    #printarray(array)\n",
        "    return array\n",
        "\n",
        "# --- Function to Extract Board Features ---\n",
        "def get_board_features(board):\n",
        "    \"\"\"\n",
        "    Extracts meaningful features from the Tetris board.\n",
        "    \"\"\"\n",
        "    column_heights = [0] * 10\n",
        "    for c in range(10):\n",
        "        maxHeight = 0\n",
        "        r = 19\n",
        "        while r >= 0:\n",
        "            if board[r][c] != 0:\n",
        "                maxHeight = 20 - r\n",
        "            r-=1\n",
        "        column_heights[c] = maxHeight\n",
        "    #print(column_heights)\n",
        "    #printarray(board)\n",
        "    max_height = max(column_heights)\n",
        "    bumpiness = sum(abs(column_heights[i] - column_heights[i+1]) for i in range(9))\n",
        "    holes = sum(1 for c in range(10) for r in range(column_heights[c]) if board[r][c] == 0)\n",
        "    return np.array([max_height, holes, bumpiness])\n",
        "\n",
        "\n",
        "def play_tetris():\n",
        "    \"\"\"\n",
        "    Plays a single game of Tetris using a genome's weights.\n",
        "    \"\"\"\n",
        "    total_lines_cleared = 0\n",
        "    total_reward = 0\n",
        "    state = env.reset()\n",
        "    done = False\n",
        "\n",
        "    move_list = []\n",
        "\n",
        "    while not done:\n",
        "        board = env.render()  # Get board as image\n",
        "\n",
        "        #print(type(board))\n",
        "        board = convert_strBoard_to_2dArray(board)\n",
        "        column_heights = find_column_heights(board)\n",
        "        #print(f\"column heights: {column_heights}\")\n",
        "        piece_width = find_piece_width(board)\n",
        "        if(piece_width == \"No Piece Found\"):\n",
        "            #Hard drop if the active piece doesn't have anywhere to go\n",
        "            action = 5\n",
        "        #Rotate the piece if it is wide\n",
        "        elif(piece_width > 2):\n",
        "            action = 3 #Rotate clockwise\n",
        "        else:\n",
        "            aim = find_aim(column_heights, piece_width)\n",
        "            left_index = find_leftmost_index(board)\n",
        "            if(left_index > aim):\n",
        "                #Move left\n",
        "                action = 0\n",
        "            elif(left_index < aim):\n",
        "                #Move right\n",
        "                action = 1\n",
        "            else:\n",
        "                #We have found the columns we want the piece to go\n",
        "                #Hard drop\n",
        "                action = 5\n",
        "        #print(action)\n",
        "        #print(f\"action: {action}\")\n",
        "        # Ensure the action is valid\n",
        "        #action = actions.get(action)  # Map to an action from ActionsMapping\n",
        "        step_result = env.step(action)  # Store step results in a variable\n",
        "\n",
        "        # Handle both 4-value and 5-value return cases\n",
        "        if len(step_result) == 4:\n",
        "            next_state, reward, done, info = step_result  # Old format\n",
        "        else:\n",
        "            next_state, reward, done, truncated, info = step_result  # New format\n",
        "            done = done or truncated  # Ensure 'done' includes truncation\n",
        "        #print(truncated)\n",
        "        total_reward += reward\n",
        "        #print(info['lines_cleared'])\n",
        "        #if(info['lines_cleared'] > 0):\n",
        "            #printarray(board)\n",
        "            #print(next_state)\n",
        "        piece_coordinates = find_active_piece(board)\n",
        "        #Format the piece coordinates\n",
        "        if(piece_coordinates == \"NPF\" or len(piece_coordinates) != 4):\n",
        "            piece_coordinates = [(-1, -1), (-1, -1), (-1, -1), (-1, -1)]\n",
        "        total_lines_cleared += info['lines_cleared']  # Track lines cleared\n",
        "\n",
        "        move = {\"board\": board, \"piece\": piece_coordinates, \"action\": action, \"reward\": reward}\n",
        "        move_list.append(move)\n",
        "\n",
        "    #print(total_lines_cleared)\n",
        "    return {\"Lines Cleared\" : total_lines_cleared, \"Reward\": total_reward, \"Move List\":move_list}\n",
        "\n",
        "def train_model(episodes):\n",
        "    history = []\n",
        "    i = 0\n",
        "    while(i < episodes):\n",
        "        tetris = play_tetris()\n",
        "        reward = tetris[\"Reward\"]\n",
        "        lines_cleared = tetris[\"Lines Cleared\"]\n",
        "        for move_list in tetris[\"Move List\"]:\n",
        "            if(len(move_list[\"piece\"]) < 4):\n",
        "                print(move_list[\"piece\"])\n",
        "        history.append(tetris)\n",
        "        print(f\"Episode {i}: Reward: {reward}, Lines Cleared: {lines_cleared}\")\n",
        "        i += 1\n",
        "    return history\n",
        "\n"
      ]
    },
    {
      "cell_type": "code",
      "execution_count": 9,
      "metadata": {
        "colab": {
          "base_uri": "https://localhost:8080/"
        },
        "id": "GMVh7KvRwGjj",
        "outputId": "a6347941-1b9e-409b-c172-56dd3988a95b"
      },
      "outputs": [
        {
          "output_type": "stream",
          "name": "stdout",
          "text": [
            "Episode 0: Reward: 27, Lines Cleared: 0\n",
            "Episode 1: Reward: 26, Lines Cleared: 0\n",
            "Episode 2: Reward: 55, Lines Cleared: 2\n",
            "Episode 3: Reward: 26, Lines Cleared: 0\n",
            "Episode 4: Reward: 26, Lines Cleared: 0\n",
            "Episode 5: Reward: 30, Lines Cleared: 0\n",
            "Episode 6: Reward: 41, Lines Cleared: 1\n",
            "Episode 7: Reward: 26, Lines Cleared: 0\n",
            "Episode 8: Reward: 24, Lines Cleared: 0\n",
            "Episode 9: Reward: 27, Lines Cleared: 0\n",
            "Episode 10: Reward: 29, Lines Cleared: 0\n",
            "Episode 11: Reward: 52, Lines Cleared: 2\n",
            "Episode 12: Reward: 41, Lines Cleared: 1\n",
            "Episode 13: Reward: 26, Lines Cleared: 0\n",
            "Episode 14: Reward: 53, Lines Cleared: 2\n",
            "Episode 15: Reward: 37, Lines Cleared: 1\n",
            "Episode 16: Reward: 28, Lines Cleared: 0\n",
            "Episode 17: Reward: 40, Lines Cleared: 1\n",
            "Episode 18: Reward: 39, Lines Cleared: 1\n",
            "Episode 19: Reward: 41, Lines Cleared: 1\n"
          ]
        }
      ],
      "source": [
        "history = train_model(20)"
      ]
    },
    {
      "cell_type": "code",
      "execution_count": 10,
      "metadata": {
        "colab": {
          "base_uri": "https://localhost:8080/"
        },
        "id": "fUg7nMhzwGjk",
        "outputId": "55fe21ba-03a3-4ca6-a6ad-036107ecca1d"
      },
      "outputs": [
        {
          "output_type": "stream",
          "name": "stdout",
          "text": [
            "0.6\n"
          ]
        }
      ],
      "source": [
        "sum = 0\n",
        "count = 0\n",
        "for episode in history:\n",
        "    sum += episode[\"Lines Cleared\"]\n",
        "    count += 1\n",
        "print(sum/count)"
      ]
    },
    {
      "cell_type": "code",
      "execution_count": 11,
      "metadata": {
        "colab": {
          "base_uri": "https://localhost:8080/"
        },
        "id": "RK3E_n3DwGjk",
        "outputId": "201e86fd-6bde-4ef2-a5a7-220efb2aa3d0"
      },
      "outputs": [
        {
          "output_type": "stream",
          "name": "stdout",
          "text": [
            "[0, 0, 0, 0, 3, 3, 0, 0, 0, 0, 0, 0, 0, 0, 3, 3, 0, 0, 0, 0, 0, 0, 0, 2, 0, 0, 0, 0, 0, 0, 0, 0, 0, 2, 0, 0, 0, 0, 0, 0, 0, 0, 0, 2, 0, 0, 0, 7, 0, 0, 0, 0, 0, 2, 0, 0, 0, 7, 0, 0, 0, 6, 0, 8, 8, 5, 7, 7, 4, 0, 6, 6, 0, 0, 8, 5, 5, 4, 4, 7, 6, 0, 2, 0, 8, 0, 5, 4, 4, 7, 3, 3, 2, 0, 8, 8, 4, 4, 7, 7, 3, 3, 2, 0, 0, 8, 0, 4, 5, 0, 0, 7, 2, 6, 0, 8, 3, 3, 5, 5, 0, 7, 6, 6, 2, 7, 3, 3, 0, 5, 7, 7, 6, 4, 2, 7, 0, 6, 0, 4, 3, 3, 0, 4, 2, 5, 6, 8, 8, 4, 3, 3, 8, 8, 2, 5, 5, 0, 8, 0, 3, 3, 0, 8, 2, 0, 5, 0, 8, 2, 0, 4, 5, 8, 2, 0, 7, 0, 6, 2, 4, 4, 5, 5, 2, 0, 7, 6, 6, 2, 0, 4, 0, 5, 2, 7, 7, 6, 0, 2, -1, -1, -1, -1, -1, -1, -1, -1, 0]\n",
            "2414\n"
          ]
        }
      ],
      "source": [
        "def extract_features(history):\n",
        "    data = []\n",
        "    for episode in history:\n",
        "        move_list = episode[\"Move List\"]\n",
        "        for move in move_list:\n",
        "            move_data = []\n",
        "            board = move[\"board\"]\n",
        "            piece = move[\"piece\"]\n",
        "            action = move[\"action\"]\n",
        "            #add each\n",
        "            for row in board:\n",
        "                for element in row:\n",
        "                    move_data.append(element)\n",
        "            #move_data.append(\"|\") #Used for debugging, remove later\n",
        "            for pixel in piece:\n",
        "                for coordinate in pixel:\n",
        "                    #print(coordinate)\n",
        "                    move_data.append(coordinate)\n",
        "            move_data.append(action)\n",
        "            if(len(move_data) != 209):\n",
        "                print(move_data)\n",
        "                print()\n",
        "            data.append(move_data)\n",
        "    return data\n",
        "features_and_label = extract_features(history)\n",
        "print(features_and_label[len(features_and_label)-1])\n",
        "print(len(features_and_label))"
      ]
    },
    {
      "cell_type": "code",
      "execution_count": 12,
      "metadata": {
        "id": "sL5y7uHAwGjl"
      },
      "outputs": [],
      "source": [
        "\n",
        "def extract_current_features(board, piece):\n",
        "    move_data = []\n",
        "    for row in board:\n",
        "        for element in row:\n",
        "            move_data.append(element)\n",
        "            #print(piece[0][0])\n",
        "    for pixel in piece:\n",
        "        for coordinate in pixel:\n",
        "            #print(coordinate)\n",
        "            move_data.append(coordinate)\n",
        "    if(len(move_data) > 209):\n",
        "        move_data = move_data[0:208]\n",
        "    return move_data\n",
        "\n"
      ]
    },
    {
      "cell_type": "code",
      "execution_count": 13,
      "metadata": {
        "colab": {
          "base_uri": "https://localhost:8080/"
        },
        "id": "HGAjub9SwGjl",
        "outputId": "4e627891-e257-43d2-a699-7ab7169f502b"
      },
      "outputs": [
        {
          "output_type": "execute_result",
          "data": {
            "text/plain": [
              "10"
            ]
          },
          "metadata": {},
          "execution_count": 13
        }
      ],
      "source": [
        "\n",
        "def find_distance(list1, list2, piece_weight):\n",
        "    sum = 0\n",
        "    piece1 = list1[len(list1)-8:]\n",
        "    piece2 = list2[len(list2)-8:]\n",
        "    #print(piece1)\n",
        "    #Extract the coordinates again\n",
        "    c11 = (piece1[0], piece1[1])\n",
        "    c12 = (piece1[2], piece1[3])\n",
        "    c13 = (piece1[4], piece1[5])\n",
        "    c14 = (piece1[6], piece1[7])\n",
        "    c21 = (piece2[0], piece2[1])\n",
        "    c22 = (piece2[2], piece2[3])\n",
        "    c23 = (piece2[4], piece2[5])\n",
        "    c24 = (piece2[6], piece2[7])\n",
        "\n",
        "    piece1_coordinates = set([c11, c12, c13, c14])\n",
        "    piece2_coordinates = set([c21, c22, c23, c24])\n",
        "\n",
        "    \"\"\"for e in piece1_coordinates:\n",
        "        print(f\"1{e}\")\n",
        "    for e in piece2_coordinates:\n",
        "        print(f\"2{e}\")\"\"\"\n",
        "\n",
        "    set_union = list(piece1_coordinates & piece2_coordinates)\n",
        "    #print(f\"Set union: {set_union}\")\n",
        "\n",
        "    for i in range(len(list1)):\n",
        "        try:\n",
        "            if i >= len(list1)-8:\n",
        "            #This only happens if the feature is the piece\n",
        "                #we will add the intersection of the pieces at the end\n",
        "                pass\n",
        "            else:\n",
        "                pos1 = list1[i]\n",
        "                pos2 = list2[i]\n",
        "                if pos1 > 0:\n",
        "                    pos1 = 0\n",
        "                if pos2 > 0:\n",
        "                    pos2 = 0\n",
        "                sum += np.abs(pos1 - pos2)\n",
        "        except:\n",
        "            pass\n",
        "    sum += len(set_union) * piece_weight\n",
        "    return sum\n",
        "\n",
        "find_distance([9, 4, 5, 9, 3, 4, 5, 6, 3, 6, 0], [9, \"H\", 9, 3,5,6,7,4,5,4,2], 10)"
      ]
    },
    {
      "cell_type": "code",
      "execution_count": 15,
      "metadata": {
        "colab": {
          "base_uri": "https://localhost:8080/"
        },
        "id": "AJK_PzjQwGjl",
        "outputId": "3846294d-3dcd-4999-e744-06bf948860b9"
      },
      "outputs": [
        {
          "output_type": "execute_result",
          "data": {
            "text/plain": [
              "0"
            ]
          },
          "metadata": {},
          "execution_count": 15
        }
      ],
      "source": [
        "import statistics as stats\n",
        "\n",
        "def make_prediction(data, current_board, current_piece, k_val, piece_weight):\n",
        "    data = np.array(data)\n",
        "    features = data[:, [0, len(data[0])-2]] #Selecting all rows but only columns from the first until the second to last\n",
        "    label = data[:, len(data[0])-1]        #Last column (this is the move which is the label)\n",
        "    features = data\n",
        "    distances = []\n",
        "    current_features = extract_current_features(current_board, current_piece)\n",
        "    i = 0\n",
        "    for move in features:\n",
        "        if(len(current_features) >= len(move)):\n",
        "            print(len(current_features), len(move))\n",
        "        dist = find_distance(current_features, move, piece_weight)\n",
        "        distances.append(dist)\n",
        "        i += 1\n",
        "    #This will get the index of the minimum distance and take the label at that distance meaning k=1 right now\n",
        "    smallest_indices = label[np.argsort(distances)[:k_val]]\n",
        "    return stats.mode(smallest_indices)\n",
        "\n",
        "make_prediction(features_and_label, board1, find_active_piece(board1), KVAL, PIECE_WEIGHT)\n"
      ]
    },
    {
      "cell_type": "code",
      "execution_count": 19,
      "metadata": {
        "colab": {
          "base_uri": "https://localhost:8080/"
        },
        "id": "QqoYENkRwGjl",
        "outputId": "c7716c9e-9b06-4ef3-9613-87d086b5fdbd"
      },
      "outputs": [
        {
          "output_type": "execute_result",
          "data": {
            "text/plain": [
              "19"
            ]
          },
          "metadata": {},
          "execution_count": 19
        }
      ],
      "source": [
        "def play_game(k_val, piece_weight):\n",
        "    \"\"\"\n",
        "    Plays a single game of Tetris using a genome's weights.\n",
        "    \"\"\"\n",
        "    total_lines_cleared = 0\n",
        "    total_reward = 0\n",
        "    state = env.reset()\n",
        "    done = False\n",
        "\n",
        "    move_list = []\n",
        "\n",
        "    while not done:\n",
        "        board = env.render()  # Get board as image\n",
        "\n",
        "        #print(type(board))\n",
        "        board = convert_strBoard_to_2dArray(board)\n",
        "        #printarray(board)\n",
        "        #print()\n",
        "        action = make_prediction(features_and_label, board, find_active_piece(board), k_val, piece_weight)\n",
        "        #print(action)\n",
        "        #print(f\"action: {action}\")\n",
        "        # Ensure the action is valid\n",
        "        #action = actions.get(action)  # Map to an action from ActionsMapping\n",
        "        step_result = env.step(action)  # Store step results in a variable\n",
        "\n",
        "        # Handle both 4-value and 5-value return cases\n",
        "        if len(step_result) == 4:\n",
        "            next_state, reward, done, info = step_result  # Old format\n",
        "        else:\n",
        "            next_state, reward, done, truncated, info = step_result  # New format\n",
        "            done = done or truncated  # Ensure 'done' includes truncation\n",
        "        total_reward += reward\n",
        "    return total_reward\n",
        "\n"
      ]
    },
    {
      "cell_type": "code",
      "execution_count": null,
      "metadata": {
        "colab": {
          "base_uri": "https://localhost:8080/"
        },
        "id": "8K0UJW4SwGjm",
        "outputId": "ab164af3-d210-4553-cca0-7293f945008c"
      },
      "outputs": [
        {
          "output_type": "stream",
          "name": "stdout",
          "text": [
            "k: 3, piece_weight: 5, reward: 14\n",
            "k: 3, piece_weight: 10, reward: 12\n",
            "k: 3, piece_weight: 15, reward: 14\n",
            "k: 3, piece_weight: 20, reward: 15\n",
            "k: 5, piece_weight: 5, reward: 18\n"
          ]
        }
      ],
      "source": [
        "#Hyperparameter Tuning\n",
        "max = 0\n",
        "maxk = 0\n",
        "maxw = 0\n",
        "for k in range(3,9,2):\n",
        "  for piece_weight in range(5, 25, 5):\n",
        "    for i in range(1):\n",
        "      reward = play_game(k, piece_weight)\n",
        "      if(reward > max):\n",
        "        max = reward\n",
        "        maxk = k\n",
        "        maxw = piece_weight\n",
        "      print(f\"k: {k}, piece_weight: {piece_weight}, reward: {reward}\")"
      ]
    },
    {
      "cell_type": "code",
      "execution_count": null,
      "metadata": {
        "id": "z7bLHAYrwGjm"
      },
      "outputs": [],
      "source": []
    },
    {
      "cell_type": "code",
      "execution_count": null,
      "metadata": {
        "id": "-54JSmPzwGjm"
      },
      "outputs": [],
      "source": []
    },
    {
      "cell_type": "code",
      "execution_count": null,
      "metadata": {
        "id": "sluRei19wGjm"
      },
      "outputs": [],
      "source": []
    }
  ],
  "metadata": {
    "kernelspec": {
      "display_name": "base",
      "language": "python",
      "name": "python3"
    },
    "language_info": {
      "codemirror_mode": {
        "name": "ipython",
        "version": 3
      },
      "file_extension": ".py",
      "mimetype": "text/x-python",
      "name": "python",
      "nbconvert_exporter": "python",
      "pygments_lexer": "ipython3",
      "version": "3.11.5"
    },
    "colab": {
      "provenance": []
    }
  },
  "nbformat": 4,
  "nbformat_minor": 0
}