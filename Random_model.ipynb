{
 "cells": [
  {
   "cell_type": "code",
   "execution_count": 18,
   "metadata": {},
   "outputs": [],
   "source": [
    "import numpy as np\n",
    "import random\n",
    "import gymnasium as gym\n",
    "import tetris_gymnasium\n",
    "from tetris_gymnasium.envs.tetris import ActionsMapping"
   ]
  },
  {
   "cell_type": "code",
   "execution_count": 23,
   "metadata": {},
   "outputs": [],
   "source": [
    "def play_tetris():\n",
    "    \"\"\"\n",
    "    Plays a single game of Tetris using a genome's weights.\n",
    "    \"\"\"\n",
    "    total_lines_cleared = 0\n",
    "    total_reward = 0\n",
    "    state = env.reset()\n",
    "    done = False\n",
    "\n",
    "    while not done:\n",
    "        board = env.render()  # Get board as image\n",
    "    \n",
    "        action = np.random.choice([0,1,2,3,4,5,6,7])\n",
    "        step_result = env.step(action)  # Store step results in a variable\n",
    "\n",
    "        # Handle both 4-value and 5-value return cases\n",
    "        if len(step_result) == 4:\n",
    "            next_state, reward, done, info = step_result  # Old format\n",
    "        else:\n",
    "            next_state, reward, done, truncated, info = step_result  # New format\n",
    "            done = done or truncated  # Ensure 'done' includes truncation\n",
    "\n",
    "        total_reward += reward\n",
    "      \n",
    "        total_lines_cleared += info['lines_cleared']  # Track lines cleared\n",
    "\n",
    "    print(board)\n",
    "    #print(total_lines_cleared)\n",
    "    return {\"Lines Cleared\" : total_lines_cleared, \"Reward\": total_reward}"
   ]
  },
  {
   "cell_type": "code",
   "execution_count": null,
   "metadata": {},
   "outputs": [],
   "source": []
  },
  {
   "cell_type": "code",
   "execution_count": 24,
   "metadata": {},
   "outputs": [
    {
     "name": "stdout",
     "output_type": "stream",
     "text": [
      ".....4....\n",
      "....444...\n",
      "....7.....\n",
      "....777...\n",
      ".....7....\n",
      ".....7....\n",
      "....77....\n",
      "....66....\n",
      ".....66...\n",
      ".....33...\n",
      ".....33...\n",
      "......4...\n",
      ".....44...\n",
      ".....24...\n",
      ".....2....\n",
      ".....2....\n",
      ".....2....\n",
      ".....8....\n",
      "..55.8....\n",
      ".55..88...\n",
      "0, {'Lines Cleared': 0, 'Reward': 8}\n",
      "Average Lines: 0.0, Average Reward: 0.008\n"
     ]
    }
   ],
   "source": [
    "env = gym.make(\"tetris_gymnasium/Tetris\", render_mode=\"ansi\")\n",
    "total_lines = 0\n",
    "total_reward = 0\n",
    "for i in range(1):\n",
    "    game = play_tetris()\n",
    "    total_lines += game[\"Lines Cleared\"]\n",
    "    total_reward += game[\"Reward\"]\n",
    "    print(f\"{i}, {game}\")\n",
    "print(f\"Average Lines: {total_lines/1000}, Average Reward: {total_reward/1000}\" )"
   ]
  }
 ],
 "metadata": {
  "kernelspec": {
   "display_name": "base",
   "language": "python",
   "name": "python3"
  },
  "language_info": {
   "codemirror_mode": {
    "name": "ipython",
    "version": 3
   },
   "file_extension": ".py",
   "mimetype": "text/x-python",
   "name": "python",
   "nbconvert_exporter": "python",
   "pygments_lexer": "ipython3",
   "version": "3.11.5"
  }
 },
 "nbformat": 4,
 "nbformat_minor": 2
}
